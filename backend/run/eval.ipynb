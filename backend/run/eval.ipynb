{
 "cells": [
  {
   "cell_type": "code",
   "execution_count": null,
   "metadata": {},
   "outputs": [],
   "source": [
    "import os\n",
    "import sys\n",
    "from dotenv import load_dotenv\n",
    "\n",
    "load_dotenv(override=True)\n",
    "\n",
    "paths = [\n",
    "    os.path.abspath(os.path.join(os.getcwd(), \"..\")),\n",
    "    os.path.abspath(os.path.join(os.getcwd(), \"..\", \"agent\")),\n",
    "]\n",
    "\n",
    "for dir_path in paths:\n",
    "    if dir_path not in sys.path:\n",
    "        sys.path.insert(0, dir_path)\n"
   ]
  },
  {
   "cell_type": "code",
   "execution_count": null,
   "metadata": {},
   "outputs": [],
   "source": [
    "# get results texts\n",
    "import os\n",
    "results_dir = os.listdir(\"./results\")\n",
    "results = []\n",
    "for result in results_dir:\n",
    "    with open(f\"./results/{result}\", \"r\") as f:\n",
    "        results.append(f.read())"
   ]
  },
  {
   "cell_type": "code",
   "execution_count": null,
   "metadata": {},
   "outputs": [],
   "source": [
    "# extract Top 10 Investment Opportunities from the results\n",
    "from pydantic import BaseModel, Field\n",
    "\n",
    "from agent.llms import reasoning_model\n",
    "from langchain_core.messages import HumanMessage, SystemMessage\n",
    "\n",
    "\n",
    "class Item(BaseModel):\n",
    "    suburb: str = Field(description=\"The suburb of the item.\")\n",
    "    address: str = Field(description=\"The address of the item.\")\n",
    "    rank: int = Field(description=\"The rank of the item.\")\n",
    "\n",
    "\n",
    "class ItemList(BaseModel):\n",
    "    items: list[Item] = Field(\n",
    "        description=\"The top 10 investment opportunities clearly listed in the report. If there are less than 10, just fill as many as you can.\"\n",
    "    )\n",
    "\n",
    "\n",
    "top_10_list: list[ItemList] = []\n",
    "\n",
    "for result in results:\n",
    "    messages = [\n",
    "        SystemMessage(\n",
    "            content=\"\"\"\n",
    "Read the report and extract the top 10 investment opportunities with the schema provided. Take an extra attention to not miss anything or include that is not in the report.\n",
    "\"\"\".strip()\n",
    "        ),\n",
    "        HumanMessage(\n",
    "            content=f\"\"\"\n",
    "Here is the report:\n",
    "\n",
    "{result}\n",
    "\"\"\".strip()\n",
    "        ),\n",
    "    ]\n",
    "\n",
    "    response: ItemList = reasoning_model.with_structured_output(ItemList).invoke(\n",
    "        messages\n",
    "    )\n",
    "    top_10_list.append(response)\n"
   ]
  },
  {
   "cell_type": "code",
   "execution_count": null,
   "metadata": {},
   "outputs": [],
   "source": [
    "# normalize the results\n",
    "normalized_results = []"
   ]
  }
 ],
 "metadata": {
  "kernelspec": {
   "display_name": ".venv",
   "language": "python",
   "name": "python3"
  },
  "language_info": {
   "name": "python",
   "version": "3.13.2"
  }
 },
 "nbformat": 4,
 "nbformat_minor": 2
}
